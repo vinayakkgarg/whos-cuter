{
 "cells": [
  {
   "cell_type": "code",
   "execution_count": 1,
   "metadata": {},
   "outputs": [
    {
     "name": "stderr",
     "output_type": "stream",
     "text": [
      "Using TensorFlow backend.\n"
     ]
    }
   ],
   "source": [
    "#building the cnn\n",
    "from keras.models import Sequential\n",
    "from keras.layers import Convolution2D\n",
    "from keras.layers import MaxPooling2D\n",
    "from keras.layers import Flatten\n",
    "from keras.layers import Dense\n"
   ]
  },
  {
   "cell_type": "code",
   "execution_count": 2,
   "metadata": {},
   "outputs": [],
   "source": [
    "# making object of sequential class\n",
    "#this initialises the NN\n",
    "classifier = Sequential()"
   ]
  },
  {
   "cell_type": "code",
   "execution_count": 3,
   "metadata": {},
   "outputs": [],
   "source": [
    "#making the first convolution layer with the activation function\n",
    "# by calling the add method\n",
    "# (number of filters, size of filter, input shape, activation function)\n",
    "\n",
    "classifier.add(Convolution2D(32,(3,3),input_shape = (64,64,3), activation = 'relu'))"
   ]
  },
  {
   "cell_type": "code",
   "execution_count": 4,
   "metadata": {},
   "outputs": [],
   "source": [
    "# making the max pooling layer to down-sample\n",
    "# reduce size of feature maps\n",
    "classifier.add(MaxPooling2D(pool_size = (2,2)))"
   ]
  },
  {
   "cell_type": "code",
   "execution_count": 5,
   "metadata": {},
   "outputs": [],
   "source": [
    "classifier.add(Convolution2D(32,(3,3), activation = 'relu'))\n",
    "classifier.add(MaxPooling2D(pool_size = (2,2)))"
   ]
  },
  {
   "cell_type": "code",
   "execution_count": 6,
   "metadata": {},
   "outputs": [],
   "source": [
    "# flatening out the down sampled matrix to a 1d layer\n",
    "# this acts as input of ANN\n",
    "\n",
    "classifier.add(Flatten())"
   ]
  },
  {
   "cell_type": "code",
   "execution_count": 7,
   "metadata": {},
   "outputs": [],
   "source": [
    "#creating the fully connected layer/hidden layer\n",
    "# units is output dimension\n",
    "\n",
    "classifier.add(Dense(activation='relu', units = 128))\n",
    "\n",
    "#creating the output layer\n",
    "#sigmoid for binary outcome either cat or dog\n",
    "#softmax function for more than 2 categories\n",
    "\n",
    "classifier.add(Dense(activation='sigmoid', units = 1))"
   ]
  },
  {
   "cell_type": "code",
   "execution_count": 8,
   "metadata": {},
   "outputs": [],
   "source": [
    "#compiling the cnn\n",
    "\n",
    "classifier.compile(optimizer=\"adam\", loss = 'binary_crossentropy', metrics=['accuracy'])\n",
    "\n",
    "#architecture of cnn is done"
   ]
  },
  {
   "cell_type": "code",
   "execution_count": 9,
   "metadata": {},
   "outputs": [
    {
     "name": "stdout",
     "output_type": "stream",
     "text": [
      "Found 8000 images belonging to 2 classes.\n",
      "Found 2000 images belonging to 2 classes.\n",
      "Epoch 1/15\n",
      "1000/1000 [==============================] - 153s 153ms/step - loss: 0.6027 - acc: 0.6652 - val_loss: 0.5270 - val_acc: 0.7390\n",
      "Epoch 2/15\n",
      "1000/1000 [==============================] - 151s 151ms/step - loss: 0.4911 - acc: 0.7597 - val_loss: 0.4873 - val_acc: 0.7610\n",
      "Epoch 3/15\n",
      "1000/1000 [==============================] - 151s 151ms/step - loss: 0.4275 - acc: 0.7988 - val_loss: 0.4559 - val_acc: 0.7840\n",
      "Epoch 4/15\n",
      "1000/1000 [==============================] - 151s 151ms/step - loss: 0.3696 - acc: 0.8324 - val_loss: 0.4700 - val_acc: 0.7870\n",
      "Epoch 5/15\n",
      "1000/1000 [==============================] - 151s 151ms/step - loss: 0.3191 - acc: 0.8594 - val_loss: 0.4843 - val_acc: 0.7960\n",
      "Epoch 6/15\n",
      "1000/1000 [==============================] - 151s 151ms/step - loss: 0.2763 - acc: 0.8806 - val_loss: 0.5457 - val_acc: 0.7950\n",
      "Epoch 7/15\n",
      "1000/1000 [==============================] - 151s 151ms/step - loss: 0.2379 - acc: 0.9008 - val_loss: 0.5717 - val_acc: 0.7985\n",
      "Epoch 8/15\n",
      "1000/1000 [==============================] - 151s 151ms/step - loss: 0.2042 - acc: 0.9161 - val_loss: 0.6686 - val_acc: 0.7695\n",
      "Epoch 9/15\n",
      "1000/1000 [==============================] - 151s 151ms/step - loss: 0.1729 - acc: 0.9318 - val_loss: 0.6346 - val_acc: 0.7845\n",
      "Epoch 10/15\n",
      "1000/1000 [==============================] - 151s 151ms/step - loss: 0.1533 - acc: 0.9380 - val_loss: 0.6943 - val_acc: 0.7970\n",
      "Epoch 11/15\n",
      "1000/1000 [==============================] - 151s 151ms/step - loss: 0.1368 - acc: 0.9472 - val_loss: 0.7654 - val_acc: 0.7985\n",
      "Epoch 12/15\n",
      "1000/1000 [==============================] - 151s 151ms/step - loss: 0.1202 - acc: 0.9545 - val_loss: 0.8217 - val_acc: 0.7885\n",
      "Epoch 13/15\n",
      "1000/1000 [==============================] - 151s 151ms/step - loss: 0.1044 - acc: 0.9604 - val_loss: 0.8055 - val_acc: 0.7945\n",
      "Epoch 14/15\n",
      "1000/1000 [==============================] - 151s 151ms/step - loss: 0.0975 - acc: 0.9618 - val_loss: 0.8864 - val_acc: 0.7850\n",
      "Epoch 15/15\n",
      "1000/1000 [==============================] - 151s 151ms/step - loss: 0.0873 - acc: 0.9663 - val_loss: 0.8767 - val_acc: 0.7805\n"
     ]
    },
    {
     "data": {
      "text/plain": [
       "<keras.callbacks.History at 0x7f63424264e0>"
      ]
     },
     "execution_count": 9,
     "metadata": {},
     "output_type": "execute_result"
    }
   ],
   "source": [
    "#image preprocessing and augmentation\n",
    "# reduces overfitting\n",
    "# code from keras documentation\n",
    "\n",
    "from keras.preprocessing.image import ImageDataGenerator\n",
    "\n",
    "train_datagen = ImageDataGenerator(\n",
    "        rescale=1./255,\n",
    "        shear_range=0.2,\n",
    "        zoom_range=0.2,\n",
    "        horizontal_flip=True)\n",
    "\n",
    "test_datagen = ImageDataGenerator(rescale=1./255)\n",
    "\n",
    "training_set = train_datagen.flow_from_directory(\n",
    "        'dataset/training_set',\n",
    "        target_size=(64, 64),\n",
    "        batch_size=32,\n",
    "        class_mode='binary')\n",
    "\n",
    "test_set = test_datagen.flow_from_directory(\n",
    "        'dataset/test_set',\n",
    "        target_size=(64, 64),\n",
    "        batch_size=32,\n",
    "        class_mode='binary')\n",
    "\n",
    "classifier.fit_generator(\n",
    "        training_set,\n",
    "        steps_per_epoch=1000,\n",
    "        epochs=15,\n",
    "        validation_data=test_set,\n",
    "        validation_steps=200)\n",
    "\n"
   ]
  }
 ],
 "metadata": {
  "kernelspec": {
   "display_name": "Python 3",
   "language": "python",
   "name": "python3"
  },
  "language_info": {
   "codemirror_mode": {
    "name": "ipython",
    "version": 3
   },
   "file_extension": ".py",
   "mimetype": "text/x-python",
   "name": "python",
   "nbconvert_exporter": "python",
   "pygments_lexer": "ipython3",
   "version": "3.6.6"
  }
 },
 "nbformat": 4,
 "nbformat_minor": 2
}
